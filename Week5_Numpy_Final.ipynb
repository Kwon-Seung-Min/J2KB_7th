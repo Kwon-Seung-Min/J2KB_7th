{
 "cells": [
  {
   "cell_type": "markdown",
   "id": "b2aa3d80",
   "metadata": {},
   "source": [
    "# J2KB 서브젝트 5주차 주제 : Numpy"
   ]
  },
  {
   "cell_type": "markdown",
   "id": "1f4b130d",
   "metadata": {},
   "source": [
    "Numpy는 Numerical Python의 줄임말로, 고성능의 수치계산을 위해 제작된 파이썬 라이브러리입니다.\n",
    "\n",
    "Numpy는 지난 3~4주차에서 학습했던 벡터 및 행렬을 연산하는 데 있어서 매우 편리한 기능들을 제공하며\n",
    "\n",
    "데이터 분석에 사용되어지는 라이브러리인 Pandas와 Matplotlib의 기초제로 활용됩니다.\n",
    "\n",
    "**이번 J2KB 서브젝트 5주차에서는 다양한 Numpy 문법들을 살펴보고, 마지막에는 조금 색다른 실험까지 해봅시다.**"
   ]
  },
  {
   "cell_type": "code",
   "execution_count": 1,
   "id": "87cab058",
   "metadata": {},
   "outputs": [],
   "source": [
    "# Numpy의 시작은 import부터\n",
    "import numpy as np"
   ]
  },
  {
   "cell_type": "code",
   "execution_count": 2,
   "id": "3d95cde5",
   "metadata": {},
   "outputs": [
    {
     "name": "stdout",
     "output_type": "stream",
     "text": [
      "[1, 2, 3, 4, 5]\n",
      "[1.1, 2.2, 4.4, 6.6, 9.9]\n"
     ]
    }
   ],
   "source": [
    "# np.array()를 사용하기 위해, 우선 데이터 리스트부터 정의를 내린다\n",
    "\n",
    "data1 = [1,2,3,4,5]\n",
    "print(data1)\n",
    "\n",
    "data2 = [1.1,2.2,4.4,6.6,9.9]\n",
    "print(data2)"
   ]
  },
  {
   "cell_type": "code",
   "execution_count": 3,
   "id": "20727a83",
   "metadata": {},
   "outputs": [
    {
     "data": {
      "text/plain": [
       "array([1, 2, 3, 4, 5])"
      ]
     },
     "execution_count": 3,
     "metadata": {},
     "output_type": "execute_result"
    }
   ],
   "source": [
    "# Numpy를 이용하여 array를 정의해보자. 위에서 만든 파이썬 리스트를 활용하여 다음과 같이 쓸 수 있다\n",
    "arr1 = np.array(data1)\n",
    "arr1"
   ]
  },
  {
   "cell_type": "code",
   "execution_count": 4,
   "id": "682c6119",
   "metadata": {},
   "outputs": [
    {
     "data": {
      "text/plain": [
       "array([1, 2, 3, 4, 5])"
      ]
     },
     "execution_count": 4,
     "metadata": {},
     "output_type": "execute_result"
    }
   ],
   "source": [
    "# 또는 괄호 안에 직접 리스트를 넣어줘도 가능하다\n",
    "arr2 = np.array([1,2,3,4,5])\n",
    "arr2"
   ]
  },
  {
   "cell_type": "code",
   "execution_count": 5,
   "id": "0b444f29",
   "metadata": {},
   "outputs": [
    {
     "name": "stdout",
     "output_type": "stream",
     "text": [
      "(5,)\n",
      "(5,)\n"
     ]
    }
   ],
   "source": [
    "# array의 형태는 다음 코드로 확인해볼 수 있다\n",
    "\n",
    "print(arr1.shape)\n",
    "print(arr2.shape)"
   ]
  },
  {
   "cell_type": "code",
   "execution_count": 6,
   "id": "3851bb0e",
   "metadata": {},
   "outputs": [
    {
     "name": "stdout",
     "output_type": "stream",
     "text": [
      "int32\n"
     ]
    }
   ],
   "source": [
    "# array의 자료형은 다음 코드로 확인해볼 수 있다\n",
    "\n",
    "print(arr1.dtype)"
   ]
  },
  {
   "cell_type": "code",
   "execution_count": 7,
   "id": "d0adfb6a",
   "metadata": {},
   "outputs": [
    {
     "data": {
      "text/plain": [
       "array([1.1, 2.2, 4.4, 6.6, 9.9])"
      ]
     },
     "execution_count": 7,
     "metadata": {},
     "output_type": "execute_result"
    }
   ],
   "source": [
    "# 한편, 실수로 구성된 리스트일 경우는?\n",
    "\n",
    "arr3 = np.array(data2)\n",
    "arr3"
   ]
  },
  {
   "cell_type": "code",
   "execution_count": 8,
   "id": "0eb54dee",
   "metadata": {},
   "outputs": [
    {
     "name": "stdout",
     "output_type": "stream",
     "text": [
      "(5,)\n",
      "float64\n"
     ]
    }
   ],
   "source": [
    "# 형태와 자료형이 다음과 같이 나타난다\n",
    "print(arr3.shape)\n",
    "print(arr3.dtype)"
   ]
  },
  {
   "cell_type": "code",
   "execution_count": 9,
   "id": "bf97d7f3",
   "metadata": {},
   "outputs": [
    {
     "data": {
      "text/plain": [
       "array([[ 1,  2,  3],\n",
       "       [ 4,  5,  6],\n",
       "       [ 7,  8,  9],\n",
       "       [10, 11, 12]])"
      ]
     },
     "execution_count": 9,
     "metadata": {},
     "output_type": "execute_result"
    }
   ],
   "source": [
    "# 이러한 경우도 있다\n",
    "\n",
    "arr4 = np.array([[1,2,3],[4,5,6],[7,8,9],[10,11,12]])\n",
    "arr4"
   ]
  },
  {
   "cell_type": "code",
   "execution_count": 10,
   "id": "17d0b2b4",
   "metadata": {},
   "outputs": [
    {
     "name": "stdout",
     "output_type": "stream",
     "text": [
      "(4, 3)\n",
      "int32\n"
     ]
    }
   ],
   "source": [
    "print(arr4.shape)\n",
    "print(arr4.dtype)"
   ]
  },
  {
   "cell_type": "markdown",
   "id": "7bb1bb3f",
   "metadata": {},
   "source": [
    "데이터의 형태를 나타내는 ~.shape 부분을 잘 보면 arr1.shape의 결과는 (5,)으로 나타나는데\n",
    "\n",
    "사실 arr1은 한 행으로 이루어진 행벡터이므로 1차원 데이터이고, 5라는 크기를 가짐을 알 수 있다.\n",
    "\n",
    "반면 arr4의 경우는 행과 열의 수(각각 4,3)가 모두 나타난 행렬로서 2차원 데이터이고, 12라는 크기를 가짐을 알 수 있다."
   ]
  },
  {
   "cell_type": "markdown",
   "id": "f8d8be5c",
   "metadata": {},
   "source": [
    "자료형(dtype) 쪽도 살펴볼 내용이 있다.\n",
    "\n",
    "아까 int32와 float64가 출력 결과로 나왔을 것이다.\n",
    "\n",
    "int32는 모든 원소가 부호가 있는 정수로만 구성된 데이터일 때의 dtype이며, float64는 단 하나라도 실수인 원소를 가지는 데이터가 있을 때의 dtype이다.\n",
    "\n",
    "예를 들어 **[1, 2.5, 3, 4.1]**로 구성된 데이터는 **1과 3이 정수라고 해도 자료형은 float64로 나오게 된다.**"
   ]
  },
  {
   "cell_type": "code",
   "execution_count": 11,
   "id": "9357d6a8",
   "metadata": {},
   "outputs": [
    {
     "data": {
      "text/plain": [
       "array([1. , 2.5, 3. , 4.1])"
      ]
     },
     "execution_count": 11,
     "metadata": {},
     "output_type": "execute_result"
    }
   ],
   "source": [
    "# 직접 해봤더니, 정수인 원소도 자동으로 실수형으로 변환되었네요\n",
    "\n",
    "arr5 = np.array([1,2.5,3,4.1])\n",
    "arr5"
   ]
  },
  {
   "cell_type": "code",
   "execution_count": 12,
   "id": "88d21a38",
   "metadata": {},
   "outputs": [
    {
     "name": "stdout",
     "output_type": "stream",
     "text": [
      "(4,)\n",
      "float64\n"
     ]
    }
   ],
   "source": [
    "print(arr5.shape)\n",
    "print(arr5.dtype)"
   ]
  },
  {
   "cell_type": "markdown",
   "id": "1aa25306",
   "metadata": {},
   "source": [
    "**그 밖에도 Numpy에서 나올 수 있는 자료형은 다양하게 존재한다.**\n",
    "\n",
    "- 부호가 없는 정수 uint\n",
    "- 복소수 complex\n",
    "- 불리언 bool (True, False)\n",
    "- 문자열 string"
   ]
  },
  {
   "cell_type": "markdown",
   "id": "324cbea5",
   "metadata": {},
   "source": [
    "이번에는 Numpy에서 array를 정의할 때 사용되는 세 개의 함수인\n",
    "\n",
    "**np.zeros(), np.ones(), np.arange()** 에 대해서 알아보도록 하자."
   ]
  },
  {
   "cell_type": "code",
   "execution_count": 13,
   "id": "755c5ca2",
   "metadata": {},
   "outputs": [
    {
     "data": {
      "text/plain": [
       "array([0., 0., 0., 0., 0.])"
      ]
     },
     "execution_count": 13,
     "metadata": {},
     "output_type": "execute_result"
    }
   ],
   "source": [
    "# 모든 성분을 실수형 0으로 만들어주는 np.zeros()\n",
    "arr6 = np.zeros(5,)\n",
    "arr6"
   ]
  },
  {
   "cell_type": "code",
   "execution_count": 14,
   "id": "a39f5b7a",
   "metadata": {},
   "outputs": [
    {
     "data": {
      "text/plain": [
       "array([[0., 0., 0.],\n",
       "       [0., 0., 0.],\n",
       "       [0., 0., 0.],\n",
       "       [0., 0., 0.]])"
      ]
     },
     "execution_count": 14,
     "metadata": {},
     "output_type": "execute_result"
    }
   ],
   "source": [
    "# 2차원으로 나타내려는 경우는 괄호에 주의하자.\n",
    "arr7 = np.zeros((4,3))\n",
    "arr7"
   ]
  },
  {
   "cell_type": "code",
   "execution_count": 15,
   "id": "abb62fb9",
   "metadata": {},
   "outputs": [
    {
     "data": {
      "text/plain": [
       "dtype('float64')"
      ]
     },
     "execution_count": 15,
     "metadata": {},
     "output_type": "execute_result"
    }
   ],
   "source": [
    "arr6.dtype"
   ]
  },
  {
   "cell_type": "code",
   "execution_count": 16,
   "id": "42d7400e",
   "metadata": {},
   "outputs": [
    {
     "data": {
      "text/plain": [
       "dtype('float64')"
      ]
     },
     "execution_count": 16,
     "metadata": {},
     "output_type": "execute_result"
    }
   ],
   "source": [
    "arr7.dtype"
   ]
  },
  {
   "cell_type": "code",
   "execution_count": 17,
   "id": "e67fffee",
   "metadata": {},
   "outputs": [
    {
     "data": {
      "text/plain": [
       "array([1., 1., 1., 1., 1., 1., 1., 1.])"
      ]
     },
     "execution_count": 17,
     "metadata": {},
     "output_type": "execute_result"
    }
   ],
   "source": [
    "# np,zeros()와 비슷한 방식으로 모든 성분을 실수형 1로 만들어주는 np.ones()도 있다.\n",
    "\n",
    "arr8 = np.ones(8)\n",
    "arr8"
   ]
  },
  {
   "cell_type": "code",
   "execution_count": 18,
   "id": "8100f4f1",
   "metadata": {},
   "outputs": [
    {
     "data": {
      "text/plain": [
       "array([[1., 1., 1., 1., 1.],\n",
       "       [1., 1., 1., 1., 1.]])"
      ]
     },
     "execution_count": 18,
     "metadata": {},
     "output_type": "execute_result"
    }
   ],
   "source": [
    "arr9 = np.ones((2,5))\n",
    "arr9"
   ]
  },
  {
   "cell_type": "code",
   "execution_count": 19,
   "id": "20b8e9da",
   "metadata": {},
   "outputs": [
    {
     "data": {
      "text/plain": [
       "array([0, 1, 2, 3, 4, 5, 6, 7, 8, 9])"
      ]
     },
     "execution_count": 19,
     "metadata": {},
     "output_type": "execute_result"
    }
   ],
   "source": [
    "# np.arange()는 인자로 받는 값만큼 1씩 증가하는 1차원 array를 만들어주는 함수이다.\n",
    "\n",
    "np.arange(10)"
   ]
  },
  {
   "cell_type": "code",
   "execution_count": 20,
   "id": "f417363f",
   "metadata": {},
   "outputs": [
    {
     "data": {
      "text/plain": [
       "array([12, 13, 14, 15, 16, 17])"
      ]
     },
     "execution_count": 20,
     "metadata": {},
     "output_type": "execute_result"
    }
   ],
   "source": [
    "np.arange(12,18)"
   ]
  },
  {
   "cell_type": "code",
   "execution_count": 21,
   "id": "bdbb81b7",
   "metadata": {},
   "outputs": [
    {
     "data": {
      "text/plain": [
       "array([ 1,  3,  5,  7,  9, 11])"
      ]
     },
     "execution_count": 21,
     "metadata": {},
     "output_type": "execute_result"
    }
   ],
   "source": [
    "# 아래에서 2는 등차수열에서의 등차를 의미한다.\n",
    "np.arange(1,12,2)"
   ]
  },
  {
   "cell_type": "markdown",
   "id": "d4b9a19b",
   "metadata": {},
   "source": [
    "이제, array 연산을 해 보자.\n",
    "\n",
    "기본적으로 Numpy에서의 연산은 크기가 서로 같은 array끼리 연산하도록 되어 있다.\n",
    "\n",
    "또한 같은 위치에 있는 요소들끼리 연산된다."
   ]
  },
  {
   "cell_type": "code",
   "execution_count": 22,
   "id": "7df0c969",
   "metadata": {},
   "outputs": [
    {
     "data": {
      "text/plain": [
       "array([[1, 2, 3],\n",
       "       [4, 5, 6]])"
      ]
     },
     "execution_count": 22,
     "metadata": {},
     "output_type": "execute_result"
    }
   ],
   "source": [
    "arr10 = np.array([[1,2,3],[4,5,6]])\n",
    "arr10"
   ]
  },
  {
   "cell_type": "code",
   "execution_count": 23,
   "id": "7f63a045",
   "metadata": {},
   "outputs": [
    {
     "data": {
      "text/plain": [
       "array([[10, 11, 12],\n",
       "       [13, 14, 15]])"
      ]
     },
     "execution_count": 23,
     "metadata": {},
     "output_type": "execute_result"
    }
   ],
   "source": [
    "arr11 = np.array([[10,11,12],[13,14,15]])\n",
    "arr11"
   ]
  },
  {
   "cell_type": "code",
   "execution_count": 24,
   "id": "6d391160",
   "metadata": {},
   "outputs": [
    {
     "name": "stdout",
     "output_type": "stream",
     "text": [
      "[[11 13 15]\n",
      " [17 19 21]]\n",
      "[[-9 -9 -9]\n",
      " [-9 -9 -9]]\n"
     ]
    }
   ],
   "source": [
    "# array끼리의 덧셈과 뺄셈\n",
    "\n",
    "print(arr10 + arr11)\n",
    "print(arr10 - arr11)"
   ]
  },
  {
   "cell_type": "code",
   "execution_count": 25,
   "id": "7e68053d",
   "metadata": {},
   "outputs": [
    {
     "data": {
      "text/plain": [
       "array([[10, 22, 36],\n",
       "       [52, 70, 90]])"
      ]
     },
     "execution_count": 25,
     "metadata": {},
     "output_type": "execute_result"
    }
   ],
   "source": [
    "# array끼리의 곱셈 - 수학의 행렬곱 계산법이 아닌 동일 요소들끼리의 곱으로 구성된 결과가 나온다.\n",
    "\n",
    "arr10 * arr11"
   ]
  },
  {
   "cell_type": "code",
   "execution_count": 26,
   "id": "61208f3c",
   "metadata": {},
   "outputs": [
    {
     "data": {
      "text/plain": [
       "array([[10.  ,  5.5 ,  4.  ],\n",
       "       [ 3.25,  2.8 ,  2.5 ]])"
      ]
     },
     "execution_count": 26,
     "metadata": {},
     "output_type": "execute_result"
    }
   ],
   "source": [
    "# array끼리의 나눗셈 - 곱셈과 원리는 동일하나 나누기를 할 때는 결과에 따라 소수점 아래 결과가 나타날 수 있다.\n",
    "\n",
    "arr11 / arr10"
   ]
  },
  {
   "cell_type": "markdown",
   "id": "60c918a3",
   "metadata": {},
   "source": [
    "여기서 Numpy에 심어져 있는 기능인 브로드캐스트에 대해서 알아보려고 한다.\n",
    "\n",
    "**브로드캐스트란 서로 크기가 다른 array끼리 연산이 가능하게끔 하는 기능을 말한다.**"
   ]
  },
  {
   "cell_type": "code",
   "execution_count": 27,
   "id": "6e74622c",
   "metadata": {},
   "outputs": [
    {
     "data": {
      "text/plain": [
       "array([[1, 2, 3],\n",
       "       [4, 5, 6]])"
      ]
     },
     "execution_count": 27,
     "metadata": {},
     "output_type": "execute_result"
    }
   ],
   "source": [
    "arr10"
   ]
  },
  {
   "cell_type": "code",
   "execution_count": 28,
   "id": "61623c34",
   "metadata": {},
   "outputs": [
    {
     "data": {
      "text/plain": [
       "array([ 4,  8, 12])"
      ]
     },
     "execution_count": 28,
     "metadata": {},
     "output_type": "execute_result"
    }
   ],
   "source": [
    "arr12 = np.array([4,8,12])\n",
    "arr12"
   ]
  },
  {
   "cell_type": "code",
   "execution_count": 29,
   "id": "e7476fbf",
   "metadata": {},
   "outputs": [
    {
     "data": {
      "text/plain": [
       "array([[ 5, 10, 15],\n",
       "       [ 8, 13, 18]])"
      ]
     },
     "execution_count": 29,
     "metadata": {},
     "output_type": "execute_result"
    }
   ],
   "source": [
    "arr10 + arr12"
   ]
  },
  {
   "cell_type": "code",
   "execution_count": 30,
   "id": "eecec716",
   "metadata": {},
   "outputs": [
    {
     "data": {
      "text/plain": [
       "array([[-3, -6, -9],\n",
       "       [ 0, -3, -6]])"
      ]
     },
     "execution_count": 30,
     "metadata": {},
     "output_type": "execute_result"
    }
   ],
   "source": [
    "arr10 - arr12"
   ]
  },
  {
   "cell_type": "code",
   "execution_count": 31,
   "id": "0b6d13f7",
   "metadata": {},
   "outputs": [
    {
     "data": {
      "text/plain": [
       "array([[ 4, 16, 36],\n",
       "       [16, 40, 72]])"
      ]
     },
     "execution_count": 31,
     "metadata": {},
     "output_type": "execute_result"
    }
   ],
   "source": [
    "arr10 * arr12"
   ]
  },
  {
   "cell_type": "markdown",
   "id": "9181d283",
   "metadata": {},
   "source": [
    "또한 하나의 array에 스칼라배 연산은 물론, n제곱 연산도 가능하다."
   ]
  },
  {
   "cell_type": "code",
   "execution_count": 32,
   "id": "cda9726d",
   "metadata": {},
   "outputs": [
    {
     "data": {
      "text/plain": [
       "array([[ 7, 14, 21],\n",
       "       [28, 35, 42]])"
      ]
     },
     "execution_count": 32,
     "metadata": {},
     "output_type": "execute_result"
    }
   ],
   "source": [
    "# 스칼라배 연산\n",
    "\n",
    "arr10 * 7"
   ]
  },
  {
   "cell_type": "code",
   "execution_count": 33,
   "id": "98ccb999",
   "metadata": {},
   "outputs": [
    {
     "data": {
      "text/plain": [
       "array([[  1,   8,  27],\n",
       "       [ 64, 125, 216]], dtype=int32)"
      ]
     },
     "execution_count": 33,
     "metadata": {},
     "output_type": "execute_result"
    }
   ],
   "source": [
    "# 3제곱 연산\n",
    "\n",
    "arr10 ** 3"
   ]
  },
  {
   "cell_type": "markdown",
   "id": "95e27ffc",
   "metadata": {},
   "source": [
    "이제 array 인덱싱에 대해 알아보자."
   ]
  },
  {
   "cell_type": "code",
   "execution_count": 34,
   "id": "20c088bf",
   "metadata": {},
   "outputs": [
    {
     "data": {
      "text/plain": [
       "array([ 1,  3,  5,  7,  9, 11, 13, 15, 17, 19])"
      ]
     },
     "execution_count": 34,
     "metadata": {},
     "output_type": "execute_result"
    }
   ],
   "source": [
    "# 1차원 array에 대하여\n",
    "\n",
    "arr13 = np.arange(1,20,2)\n",
    "arr13"
   ]
  },
  {
   "cell_type": "code",
   "execution_count": 38,
   "id": "2d167a74",
   "metadata": {},
   "outputs": [
    {
     "name": "stdout",
     "output_type": "stream",
     "text": [
      "1\n",
      "13\n",
      "[5 7 9]\n",
      "[ 1  3  5  7  9 11 13 15 17 19]\n"
     ]
    }
   ],
   "source": [
    "# 인덱싱은 대괄호를 사용한다\n",
    "\n",
    "print(arr13[0])\n",
    "print(arr13[6])\n",
    "print(arr13[2:5])\n",
    "print(arr13[:])"
   ]
  },
  {
   "cell_type": "code",
   "execution_count": 39,
   "id": "88163e4e",
   "metadata": {},
   "outputs": [
    {
     "data": {
      "text/plain": [
       "array([[ 1,  2,  3,  4],\n",
       "       [ 5,  6,  7,  8],\n",
       "       [ 9, 10, 11, 12]])"
      ]
     },
     "execution_count": 39,
     "metadata": {},
     "output_type": "execute_result"
    }
   ],
   "source": [
    "# 2차원 array에 대하여\n",
    "\n",
    "arr14 = np.array([[1,2,3,4],\n",
    "                 [5,6,7,8],\n",
    "                 [9,10,11,12]])\n",
    "arr14"
   ]
  },
  {
   "cell_type": "code",
   "execution_count": 41,
   "id": "28d9dda2",
   "metadata": {},
   "outputs": [
    {
     "name": "stdout",
     "output_type": "stream",
     "text": [
      "1\n",
      "7\n"
     ]
    }
   ],
   "source": [
    "# 2차원 array의 인덱싱을 할 때는 2개의 인자를 입력해야 한다\n",
    "print(arr14[0,0])\n",
    "print(arr14[1,2])"
   ]
  },
  {
   "cell_type": "code",
   "execution_count": 43,
   "id": "65bd66e1",
   "metadata": {},
   "outputs": [
    {
     "data": {
      "text/plain": [
       "array([ 9, 10, 11, 12])"
      ]
     },
     "execution_count": 43,
     "metadata": {},
     "output_type": "execute_result"
    }
   ],
   "source": [
    "# 3행의 모든 요소 출력\n",
    "arr14[2,:]"
   ]
  },
  {
   "cell_type": "code",
   "execution_count": 44,
   "id": "1a4a8db8",
   "metadata": {},
   "outputs": [
    {
     "data": {
      "text/plain": [
       "array([ 2,  6, 10])"
      ]
     },
     "execution_count": 44,
     "metadata": {},
     "output_type": "execute_result"
    }
   ],
   "source": [
    "# 모든 행의 2번째 요소 출력\n",
    "arr14[:,1]"
   ]
  },
  {
   "cell_type": "markdown",
   "id": "f44df04f",
   "metadata": {},
   "source": [
    "**array boolean indexing**에 대해서도 알아보자."
   ]
  },
  {
   "cell_type": "code",
   "execution_count": 45,
   "id": "826fe569",
   "metadata": {},
   "outputs": [
    {
     "data": {
      "text/plain": [
       "array(['Beomwoo', 'Beomwoo', 'Kim', 'Joan', 'Lee', 'Beomwoo', 'Park',\n",
       "       'Beomwoo'], dtype='<U7')"
      ]
     },
     "execution_count": 45,
     "metadata": {},
     "output_type": "execute_result"
    }
   ],
   "source": [
    "names = np.array(['Beomwoo','Beomwoo','Kim','Joan','Lee','Beomwoo','Park','Beomwoo'])\n",
    "names"
   ]
  },
  {
   "cell_type": "code",
   "execution_count": 46,
   "id": "46ce2cf7",
   "metadata": {},
   "outputs": [
    {
     "data": {
      "text/plain": [
       "(8,)"
      ]
     },
     "execution_count": 46,
     "metadata": {},
     "output_type": "execute_result"
    }
   ],
   "source": [
    "names.shape"
   ]
  },
  {
   "cell_type": "code",
   "execution_count": 55,
   "id": "b832f444",
   "metadata": {},
   "outputs": [
    {
     "data": {
      "text/plain": [
       "array([[-0.0789954 , -0.39766427, -0.75493207,  0.60607499],\n",
       "       [-2.26631289,  0.34062206,  1.87825669, -1.39787347],\n",
       "       [ 1.95551166,  2.11416842,  0.01998946,  0.47224989],\n",
       "       [ 0.30527631,  1.15799228, -0.05154758,  1.0074178 ],\n",
       "       [-0.90466377,  1.71879136, -0.46472975, -0.73386946],\n",
       "       [-0.80495881, -0.64951233, -1.03338874,  2.54299303],\n",
       "       [ 0.6796653 ,  0.2557452 , -0.65658327, -0.64232121],\n",
       "       [-0.72199497, -1.09608569,  1.37862023, -0.13585244]])"
      ]
     },
     "execution_count": 55,
     "metadata": {},
     "output_type": "execute_result"
    }
   ],
   "source": [
    "# 아래에서 사용되는 np.random.randn() 함수는 기대값이 0이고, 표준편차가 1인 가우시안 정규 분포를 따르는 난수를 발생시키는 함수이다.\n",
    "# 이 외에도 0~1의 난수를 발생시키는 np.random.rand() 함수도 존재한다.\n",
    "data = np.random.randn(8,4)\n",
    "data"
   ]
  },
  {
   "cell_type": "markdown",
   "id": "4b084415",
   "metadata": {},
   "source": [
    "위와 같은 names와 data라는 array가 있다.\n",
    "\n",
    "이때, names의 각 요소가 data의 각 행과 연결된다고 가정한다.\n",
    "\n",
    "그리고 이 때, names가 Beomwoo인 행의 data만 보고 싶을 때 다음과 같이 마스크를 사용해볼 수 있을 것이다."
   ]
  },
  {
   "cell_type": "code",
   "execution_count": 56,
   "id": "84732e3a",
   "metadata": {},
   "outputs": [
    {
     "data": {
      "text/plain": [
       "array([ True,  True, False, False, False,  True, False,  True])"
      ]
     },
     "execution_count": 56,
     "metadata": {},
     "output_type": "execute_result"
    }
   ],
   "source": [
    "# 요소가 Beomwoo인 항목에 대한 mask 생성\n",
    "names_Beomwoo_mask = (names == 'Beomwoo')\n",
    "names_Beomwoo_mask"
   ]
  },
  {
   "cell_type": "code",
   "execution_count": 57,
   "id": "1bc229c7",
   "metadata": {},
   "outputs": [
    {
     "data": {
      "text/plain": [
       "array([[-0.0789954 , -0.39766427, -0.75493207,  0.60607499],\n",
       "       [-2.26631289,  0.34062206,  1.87825669, -1.39787347],\n",
       "       [-0.80495881, -0.64951233, -1.03338874,  2.54299303],\n",
       "       [-0.72199497, -1.09608569,  1.37862023, -0.13585244]])"
      ]
     },
     "execution_count": 57,
     "metadata": {},
     "output_type": "execute_result"
    }
   ],
   "source": [
    "data[names_Beomwoo_mask,:]"
   ]
  },
  {
   "cell_type": "markdown",
   "id": "65113f30",
   "metadata": {},
   "source": [
    "위의 결과를 보면 요소가 Beomwoo인 것은 0번째, 1번째, 5번째, 7번째이므로, data에서 0,1,5,7행의 모든 요소를 출력한다.\n",
    "\n",
    "이를 위해 요소가 Beomwoo인 것에 대한 boolean값을 가지는 mask를 만들었고, 마스크를 인덱싱에 응용하여 data의 0,1,5,7행을 출력한 것이다."
   ]
  },
  {
   "cell_type": "code",
   "execution_count": 58,
   "id": "fe313d65",
   "metadata": {},
   "outputs": [
    {
     "data": {
      "text/plain": [
       "array([[1.95551166, 2.11416842, 0.01998946, 0.47224989]])"
      ]
     },
     "execution_count": 58,
     "metadata": {},
     "output_type": "execute_result"
    }
   ],
   "source": [
    "# 요소가 Kim인 행의 데이터만 꺼내기\n",
    "data[names == 'Kim',:]"
   ]
  },
  {
   "cell_type": "code",
   "execution_count": 59,
   "id": "a772d2f0",
   "metadata": {},
   "outputs": [
    {
     "data": {
      "text/plain": [
       "array([[ 1.95551166,  2.11416842,  0.01998946,  0.47224989],\n",
       "       [ 0.6796653 ,  0.2557452 , -0.65658327, -0.64232121]])"
      ]
     },
     "execution_count": 59,
     "metadata": {},
     "output_type": "execute_result"
    }
   ],
   "source": [
    "# 논리 연산을 응용하여, 요소가 Kim 또는 Park인 행의 데이터만 꺼내기\n",
    "data[(names == 'Kim') | (names == 'Park'),:]"
   ]
  },
  {
   "cell_type": "markdown",
   "id": "3fc2cfcf",
   "metadata": {},
   "source": [
    "물론 data array 자체적으로도 마스크를 만들고, 이를 응용하여 인덱싱이 가능하기도 하다.\n",
    "\n",
    "data array에서 0번째 열의 값이 0보다 작은 행을 구해 보자."
   ]
  },
  {
   "cell_type": "code",
   "execution_count": 60,
   "id": "269a39ea",
   "metadata": {},
   "outputs": [
    {
     "data": {
      "text/plain": [
       "array([ True,  True, False, False,  True,  True, False,  True])"
      ]
     },
     "execution_count": 60,
     "metadata": {},
     "output_type": "execute_result"
    }
   ],
   "source": [
    "# 먼저 마스크를 만든다.\n",
    "# data array에서 0번째 열이 0보다 작은 요소의 boolean 값은 다음과 같다.\n",
    "# 부등호 판별이기 때문에, 결과는 boolean 값으로 나온다.\n",
    "data[:,0] < 0"
   ]
  },
  {
   "cell_type": "code",
   "execution_count": 61,
   "id": "d1b59d31",
   "metadata": {},
   "outputs": [
    {
     "data": {
      "text/plain": [
       "array([[-0.0789954 , -0.39766427, -0.75493207,  0.60607499],\n",
       "       [-2.26631289,  0.34062206,  1.87825669, -1.39787347],\n",
       "       [-0.90466377,  1.71879136, -0.46472975, -0.73386946],\n",
       "       [-0.80495881, -0.64951233, -1.03338874,  2.54299303],\n",
       "       [-0.72199497, -1.09608569,  1.37862023, -0.13585244]])"
      ]
     },
     "execution_count": 61,
     "metadata": {},
     "output_type": "execute_result"
    }
   ],
   "source": [
    "# 위에서 만든 마스크를 이용하여 0번째 열의 값이 0보다 작은 행을 구한다.\n",
    "data[data[:,0]<0,:]"
   ]
  },
  {
   "cell_type": "markdown",
   "id": "34149d20",
   "metadata": {},
   "source": [
    "이를 통해 특정 위치에만 우리가 원하는 값을 대입할 수 있다.\n",
    "\n",
    "위에서 얻은, 0번째 열의 값이 0보다 작은 행의 2,3번째 열의 값에 각각 0을 대입해 보자."
   ]
  },
  {
   "cell_type": "code",
   "execution_count": 62,
   "id": "f40860cc",
   "metadata": {},
   "outputs": [
    {
     "data": {
      "text/plain": [
       "array([[-0.75493207,  0.60607499],\n",
       "       [ 1.87825669, -1.39787347],\n",
       "       [-0.46472975, -0.73386946],\n",
       "       [-1.03338874,  2.54299303],\n",
       "       [ 1.37862023, -0.13585244]])"
      ]
     },
     "execution_count": 62,
     "metadata": {},
     "output_type": "execute_result"
    }
   ],
   "source": [
    "# 0번째 열의 값이 0보다 작은 행의 2,3번째 열의 값\n",
    "data[data[:,0]<0,2:4]"
   ]
  },
  {
   "cell_type": "code",
   "execution_count": 63,
   "id": "c6fbef59",
   "metadata": {},
   "outputs": [
    {
     "data": {
      "text/plain": [
       "array([[-0.0789954 , -0.39766427,  0.        ,  0.        ],\n",
       "       [-2.26631289,  0.34062206,  0.        ,  0.        ],\n",
       "       [ 1.95551166,  2.11416842,  0.01998946,  0.47224989],\n",
       "       [ 0.30527631,  1.15799228, -0.05154758,  1.0074178 ],\n",
       "       [-0.90466377,  1.71879136,  0.        ,  0.        ],\n",
       "       [-0.80495881, -0.64951233,  0.        ,  0.        ],\n",
       "       [ 0.6796653 ,  0.2557452 , -0.65658327, -0.64232121],\n",
       "       [-0.72199497, -1.09608569,  0.        ,  0.        ]])"
      ]
     },
     "execution_count": 63,
     "metadata": {},
     "output_type": "execute_result"
    }
   ],
   "source": [
    "# 0번째 열의 값이 0보다 작은 2,3번째 열의 값에 대해서 모두 0으로 치환\n",
    "data[data[:,0]<0,2:4] = 0\n",
    "data"
   ]
  },
  {
   "cell_type": "markdown",
   "id": "1fd898bf",
   "metadata": {},
   "source": [
    "이제 마지막으로 **Numpy 함수**에 대해서 살펴보고자 한다."
   ]
  },
  {
   "cell_type": "code",
   "execution_count": 64,
   "id": "2adb4bdc",
   "metadata": {},
   "outputs": [
    {
     "data": {
      "text/plain": [
       "array([[-1.17451901,  0.0454109 ,  0.2733786 ],\n",
       "       [-0.18645412, -0.46541234,  0.39666272],\n",
       "       [ 2.36342188, -0.48288034,  1.93055282],\n",
       "       [-0.52361912, -1.17516422,  0.82280813]])"
      ]
     },
     "execution_count": 64,
     "metadata": {},
     "output_type": "execute_result"
    }
   ],
   "source": [
    "# np.random.randn(a,b)\n",
    "arr15 = np.random.randn(4,3)\n",
    "arr15"
   ]
  },
  {
   "cell_type": "code",
   "execution_count": 65,
   "id": "bcc1910a",
   "metadata": {},
   "outputs": [
    {
     "data": {
      "text/plain": [
       "array([[1.17451901, 0.0454109 , 0.2733786 ],\n",
       "       [0.18645412, 0.46541234, 0.39666272],\n",
       "       [2.36342188, 0.48288034, 1.93055282],\n",
       "       [0.52361912, 1.17516422, 0.82280813]])"
      ]
     },
     "execution_count": 65,
     "metadata": {},
     "output_type": "execute_result"
    }
   ],
   "source": [
    "# 각 성분의 절댓값 계산 : np.abs()\n",
    "np.abs(arr15)"
   ]
  },
  {
   "cell_type": "code",
   "execution_count": 66,
   "id": "c5dc631c",
   "metadata": {},
   "outputs": [
    {
     "name": "stderr",
     "output_type": "stream",
     "text": [
      "C:\\Users\\alra\\AppData\\Local\\Temp/ipykernel_1804/1056883480.py:2: RuntimeWarning: invalid value encountered in sqrt\n",
      "  np.sqrt(arr15)\n"
     ]
    },
    {
     "data": {
      "text/plain": [
       "array([[       nan, 0.21309834, 0.52285619],\n",
       "       [       nan,        nan, 0.62981165],\n",
       "       [1.53734247,        nan, 1.38944335],\n",
       "       [       nan,        nan, 0.90708772]])"
      ]
     },
     "execution_count": 66,
     "metadata": {},
     "output_type": "execute_result"
    }
   ],
   "source": [
    "# 각 성분의 제곱근 계산하기 (또는 array ** 0.5 형태로 써도 동일 결과 도출) : np.sqrt()\n",
    "# 어떤 음수에 대한 제곱근은 일반 실수 체계에서 존재하지 않으므로, nan이 출력\n",
    "np.sqrt(arr15)"
   ]
  },
  {
   "cell_type": "code",
   "execution_count": 67,
   "id": "bbf4547a",
   "metadata": {},
   "outputs": [
    {
     "data": {
      "text/plain": [
       "array([[1.37949491e+00, 2.06215008e-03, 7.47358581e-02],\n",
       "       [3.47651404e-02, 2.16608648e-01, 1.57341310e-01],\n",
       "       [5.58576298e+00, 2.33173424e-01, 3.72703418e+00],\n",
       "       [2.74176980e-01, 1.38101095e+00, 6.77013216e-01]])"
      ]
     },
     "execution_count": 67,
     "metadata": {},
     "output_type": "execute_result"
    }
   ],
   "source": [
    "# 각 성분의 제곱 계산하기\n",
    "# ~~e+00은 소수점 아래 자릿수가 없는 실수를 의미한다.\n",
    "np.square(arr15)"
   ]
  },
  {
   "cell_type": "code",
   "execution_count": 68,
   "id": "a3768c9c",
   "metadata": {},
   "outputs": [
    {
     "data": {
      "text/plain": [
       "array([[ 0.30896755,  1.04645776,  1.31439778],\n",
       "       [ 0.82989663,  0.62787615,  1.48685435],\n",
       "       [10.62725448,  0.61700365,  6.89331994],\n",
       "       [ 0.5923728 ,  0.30876827,  2.27688465]])"
      ]
     },
     "execution_count": 68,
     "metadata": {},
     "output_type": "execute_result"
    }
   ],
   "source": [
    "# 각 성분을 무리수 e의 지수로 삼은 값을 계산하기\n",
    "np.exp(arr15)"
   ]
  },
  {
   "cell_type": "code",
   "execution_count": 69,
   "id": "01a8d439",
   "metadata": {},
   "outputs": [
    {
     "name": "stderr",
     "output_type": "stream",
     "text": [
      "C:\\Users\\alra\\AppData\\Local\\Temp/ipykernel_1804/996693603.py:2: RuntimeWarning: invalid value encountered in log\n",
      "  np.log(arr15)\n"
     ]
    },
    {
     "data": {
      "text/plain": [
       "array([[        nan, -3.09200306, -1.29689764],\n",
       "       [        nan,         nan, -0.92466894],\n",
       "       [ 0.86011052,         nan,  0.6578064 ],\n",
       "       [        nan,         nan, -0.19503224]])"
      ]
     },
     "execution_count": 69,
     "metadata": {},
     "output_type": "execute_result"
    }
   ],
   "source": [
    "# 각 성분에 자연로그를 씌운 값을 계산하기\n",
    "np.log(arr15)"
   ]
  },
  {
   "cell_type": "code",
   "execution_count": 70,
   "id": "28421840",
   "metadata": {},
   "outputs": [
    {
     "name": "stderr",
     "output_type": "stream",
     "text": [
      "C:\\Users\\alra\\AppData\\Local\\Temp/ipykernel_1804/1708328573.py:2: RuntimeWarning: invalid value encountered in log10\n",
      "  np.log10(arr15)\n"
     ]
    },
    {
     "data": {
      "text/plain": [
       "array([[        nan, -1.34283986, -0.56323549],\n",
       "       [        nan,         nan, -0.40157862],\n",
       "       [ 0.37354125,         nan,  0.28568169],\n",
       "       [        nan,         nan, -0.08470143]])"
      ]
     },
     "execution_count": 70,
     "metadata": {},
     "output_type": "execute_result"
    }
   ],
   "source": [
    "# 각 성분에 밑이 10인 상용로그를 씌운 값을 계산하기\n",
    "np.log10(arr15)"
   ]
  },
  {
   "cell_type": "code",
   "execution_count": 71,
   "id": "b82554eb",
   "metadata": {},
   "outputs": [
    {
     "name": "stderr",
     "output_type": "stream",
     "text": [
      "C:\\Users\\alra\\AppData\\Local\\Temp/ipykernel_1804/947493872.py:2: RuntimeWarning: invalid value encountered in log2\n",
      "  np.log2(arr15)\n"
     ]
    },
    {
     "data": {
      "text/plain": [
       "array([[        nan, -4.46081747, -1.87102779],\n",
       "       [        nan,         nan, -1.3340153 ],\n",
       "       [ 1.24087718,         nan,  0.94901403],\n",
       "       [        nan,         nan, -0.28137205]])"
      ]
     },
     "execution_count": 71,
     "metadata": {},
     "output_type": "execute_result"
    }
   ],
   "source": [
    "# 각 성분에 밑이 2인 로그를 씌운 값을 계산하기\n",
    "np.log2(arr15)"
   ]
  },
  {
   "cell_type": "code",
   "execution_count": 72,
   "id": "7d59b3cb",
   "metadata": {},
   "outputs": [
    {
     "data": {
      "text/plain": [
       "array([[-1.,  1.,  1.],\n",
       "       [-1., -1.,  1.],\n",
       "       [ 1., -1.,  1.],\n",
       "       [-1., -1.,  1.]])"
      ]
     },
     "execution_count": 72,
     "metadata": {},
     "output_type": "execute_result"
    }
   ],
   "source": [
    "# 각 성분의 부호 계산하기(+인 경우 1, -인 경우 -1, 0인 경우 0)\n",
    "np.sign(arr15)"
   ]
  },
  {
   "cell_type": "markdown",
   "id": "028afbc8",
   "metadata": {},
   "source": [
    "이쯤에서, arr15를 다시 출력하고, 작업을 이어나가자."
   ]
  },
  {
   "cell_type": "code",
   "execution_count": 75,
   "id": "82813011",
   "metadata": {},
   "outputs": [
    {
     "data": {
      "text/plain": [
       "array([[-1.17451901,  0.0454109 ,  0.2733786 ],\n",
       "       [-0.18645412, -0.46541234,  0.39666272],\n",
       "       [ 2.36342188, -0.48288034,  1.93055282],\n",
       "       [-0.52361912, -1.17516422,  0.82280813]])"
      ]
     },
     "execution_count": 75,
     "metadata": {},
     "output_type": "execute_result"
    }
   ],
   "source": [
    "arr15"
   ]
  },
  {
   "cell_type": "code",
   "execution_count": 77,
   "id": "7fae2f0f",
   "metadata": {},
   "outputs": [
    {
     "data": {
      "text/plain": [
       "array([[-1.,  1.,  1.],\n",
       "       [-0., -0.,  1.],\n",
       "       [ 3., -0.,  2.],\n",
       "       [-0., -1.,  1.]])"
      ]
     },
     "execution_count": 77,
     "metadata": {},
     "output_type": "execute_result"
    }
   ],
   "source": [
    "# 각 성분의 소수 첫 번째 자리에서 올림한 값을 계산하기\n",
    "np.ceil(arr15)"
   ]
  },
  {
   "cell_type": "code",
   "execution_count": 78,
   "id": "1a173abd",
   "metadata": {},
   "outputs": [
    {
     "data": {
      "text/plain": [
       "array([[-2.,  0.,  0.],\n",
       "       [-1., -1.,  0.],\n",
       "       [ 2., -1.,  1.],\n",
       "       [-1., -2.,  0.]])"
      ]
     },
     "execution_count": 78,
     "metadata": {},
     "output_type": "execute_result"
    }
   ],
   "source": [
    "# 각 성분의 소수 첫 번째 자리에서 내림한 값을 계산하기\n",
    "np.floor(arr15)"
   ]
  },
  {
   "cell_type": "code",
   "execution_count": 80,
   "id": "d56dfb33",
   "metadata": {},
   "outputs": [
    {
     "data": {
      "text/plain": [
       "array([[False, False, False],\n",
       "       [False, False, False],\n",
       "       [False, False, False],\n",
       "       [False, False, False]])"
      ]
     },
     "execution_count": 80,
     "metadata": {},
     "output_type": "execute_result"
    }
   ],
   "source": [
    "# 각 성분이 NaN인 경우 True를, 아닌 경우 False를 반환하기\n",
    "np.isnan(arr15)"
   ]
  },
  {
   "cell_type": "code",
   "execution_count": 81,
   "id": "6fa83aca",
   "metadata": {},
   "outputs": [
    {
     "name": "stderr",
     "output_type": "stream",
     "text": [
      "C:\\Users\\alra\\AppData\\Local\\Temp/ipykernel_1804/1113276742.py:1: RuntimeWarning: invalid value encountered in log\n",
      "  np.isnan(np.log(arr15))\n"
     ]
    },
    {
     "data": {
      "text/plain": [
       "array([[ True, False, False],\n",
       "       [ True,  True, False],\n",
       "       [False,  True, False],\n",
       "       [ True,  True, False]])"
      ]
     },
     "execution_count": 81,
     "metadata": {},
     "output_type": "execute_result"
    }
   ],
   "source": [
    "# 각 성분이 nan인 경우 True를, 아닌 경우 False\n",
    "np.isnan(np.log(arr15))"
   ]
  },
  {
   "cell_type": "code",
   "execution_count": 82,
   "id": "1e34a908",
   "metadata": {},
   "outputs": [
    {
     "data": {
      "text/plain": [
       "array([[False, False, False],\n",
       "       [False, False, False],\n",
       "       [False, False, False],\n",
       "       [False, False, False]])"
      ]
     },
     "execution_count": 82,
     "metadata": {},
     "output_type": "execute_result"
    }
   ],
   "source": [
    "# 각 성분이 무한대인 경우 True를, 아닌 경우 False\n",
    "np.isinf(arr15)"
   ]
  },
  {
   "cell_type": "code",
   "execution_count": 83,
   "id": "ca4ab9d1",
   "metadata": {},
   "outputs": [
    {
     "data": {
      "text/plain": [
       "array([[ 0.38598683,  0.9989691 ,  0.96286422],\n",
       "       [ 0.98266773,  0.89363659,  0.92235546],\n",
       "       [-0.7121988 ,  0.88566116, -0.35204632],\n",
       "       [ 0.86601523,  0.38539154,  0.68016537]])"
      ]
     },
     "execution_count": 83,
     "metadata": {},
     "output_type": "execute_result"
    }
   ],
   "source": [
    "# 각 성분에 대해 삼각함수 값을 계산할 수 있다(cos, cosh, sin, sinh, tan, tanh).\n",
    "# 대표로 cos에 대해서만 출력해 보자.\n",
    "np.cos(arr15)"
   ]
  },
  {
   "cell_type": "markdown",
   "id": "ec0cf301",
   "metadata": {},
   "source": [
    "이전까지는 하나의 array에 적용가능한 함수들을 살펴보았다면, 이번에는 2개의 array에 적용하는 함수들을 살펴볼 것이다."
   ]
  },
  {
   "cell_type": "code",
   "execution_count": 84,
   "id": "34ac5311",
   "metadata": {},
   "outputs": [
    {
     "data": {
      "text/plain": [
       "array([[-0.09450941,  1.00080494, -0.93808477],\n",
       "       [-0.79982567, -1.41494412, -0.82026073],\n",
       "       [ 0.85280234, -0.19808432, -0.88018028],\n",
       "       [-0.56806838, -1.38913571,  1.78970168],\n",
       "       [-1.60647236, -0.79844887, -1.39672477]])"
      ]
     },
     "execution_count": 84,
     "metadata": {},
     "output_type": "execute_result"
    }
   ],
   "source": [
    "arr16 = np.random.randn(5,3)\n",
    "arr16"
   ]
  },
  {
   "cell_type": "code",
   "execution_count": 85,
   "id": "daea8b79",
   "metadata": {},
   "outputs": [
    {
     "data": {
      "text/plain": [
       "array([[ 0.8849973 , -1.8234031 , -0.60046975],\n",
       "       [ 0.18321081,  0.807167  ,  0.12196612],\n",
       "       [ 0.98147922, -0.7903474 , -0.68675451],\n",
       "       [ 0.66935089, -0.43873856, -0.23434668],\n",
       "       [ 0.2566292 ,  1.49803506,  0.0379194 ]])"
      ]
     },
     "execution_count": 85,
     "metadata": {},
     "output_type": "execute_result"
    }
   ],
   "source": [
    "arr17 = np.random.randn(5,3)\n",
    "arr17"
   ]
  },
  {
   "cell_type": "code",
   "execution_count": 86,
   "id": "b8db4632",
   "metadata": {},
   "outputs": [
    {
     "data": {
      "text/plain": [
       "array([[-0.08364057, -1.82487083,  0.56329152],\n",
       "       [-0.14653671, -1.1420962 , -0.10004402],\n",
       "       [ 0.83700777,  0.15655543,  0.60446778],\n",
       "       [-0.38023707,  0.6094674 , -0.41941065],\n",
       "       [-0.41226771, -1.1961044 , -0.05296297]])"
      ]
     },
     "execution_count": 86,
     "metadata": {},
     "output_type": "execute_result"
    }
   ],
   "source": [
    "# 두 개의 array에 대해 동일한 위치의 성분끼리 연산 값을 계산하기(add, subtract, multiply, divide)\n",
    "# 대표적으로 multiply(곱)에 대해서 살펴보자.\n",
    "# 동일 성분들끼리 곱이 이루어진다.\n",
    "np.multiply(arr16,arr17)"
   ]
  },
  {
   "cell_type": "code",
   "execution_count": 87,
   "id": "b8ca4fec",
   "metadata": {},
   "outputs": [
    {
     "data": {
      "text/plain": [
       "array([[ 0.8849973 ,  1.00080494, -0.60046975],\n",
       "       [ 0.18321081,  0.807167  ,  0.12196612],\n",
       "       [ 0.98147922, -0.19808432, -0.68675451],\n",
       "       [ 0.66935089, -0.43873856,  1.78970168],\n",
       "       [ 0.2566292 ,  1.49803506,  0.0379194 ]])"
      ]
     },
     "execution_count": 87,
     "metadata": {},
     "output_type": "execute_result"
    }
   ],
   "source": [
    "# 두 개의 array에 대해 동일한 위치의 성분끼리 비교하여 최대값 또는 최소값 계산(maximum, minimum)\n",
    "np.maximum(arr16,arr17)"
   ]
  },
  {
   "cell_type": "markdown",
   "id": "297894ad",
   "metadata": {},
   "source": [
    "통계 함수에 대해서도 알아보자.\n",
    "\n",
    "통계 함수를 통해 array의 합이나 평균등을 구할 때, 추가로 axis라는 인자에 대한 값을 지정하여 열 또는 행의 합 또는 평균 등을 구할 수도 있다."
   ]
  },
  {
   "cell_type": "code",
   "execution_count": 88,
   "id": "e6ceb16d",
   "metadata": {},
   "outputs": [
    {
     "data": {
      "text/plain": [
       "array([[ 0.8849973 , -1.8234031 , -0.60046975],\n",
       "       [ 0.18321081,  0.807167  ,  0.12196612],\n",
       "       [ 0.98147922, -0.7903474 , -0.68675451],\n",
       "       [ 0.66935089, -0.43873856, -0.23434668],\n",
       "       [ 0.2566292 ,  1.49803506,  0.0379194 ]])"
      ]
     },
     "execution_count": 88,
     "metadata": {},
     "output_type": "execute_result"
    }
   ],
   "source": [
    "arr17"
   ]
  },
  {
   "cell_type": "code",
   "execution_count": 89,
   "id": "d5cc2e3f",
   "metadata": {},
   "outputs": [
    {
     "data": {
      "text/plain": [
       "0.8666950060295024"
      ]
     },
     "execution_count": 89,
     "metadata": {},
     "output_type": "execute_result"
    }
   ],
   "source": [
    "# 전체 성분의 합\n",
    "np.sum(arr17)"
   ]
  },
  {
   "cell_type": "code",
   "execution_count": 90,
   "id": "1841c38c",
   "metadata": {},
   "outputs": [
    {
     "data": {
      "text/plain": [
       "array([-1.53887555,  1.11234394, -0.49562269, -0.00373435,  1.79258365])"
      ]
     },
     "execution_count": 90,
     "metadata": {},
     "output_type": "execute_result"
    }
   ],
   "source": [
    "# 열 간의 합\n",
    "np.sum(arr17, axis=1)"
   ]
  },
  {
   "cell_type": "code",
   "execution_count": 91,
   "id": "2293af0e",
   "metadata": {},
   "outputs": [
    {
     "data": {
      "text/plain": [
       "array([ 2.97566741, -0.74728699, -1.36168541])"
      ]
     },
     "execution_count": 91,
     "metadata": {},
     "output_type": "execute_result"
    }
   ],
   "source": [
    "# 행 간의 합\n",
    "np.sum(arr17, axis=0)"
   ]
  },
  {
   "cell_type": "code",
   "execution_count": 92,
   "id": "a3797b0d",
   "metadata": {},
   "outputs": [
    {
     "data": {
      "text/plain": [
       "0.057779667068633495"
      ]
     },
     "execution_count": 92,
     "metadata": {},
     "output_type": "execute_result"
    }
   ],
   "source": [
    "# 전체 성분의 평균 계산\n",
    "np.mean(arr17)"
   ]
  },
  {
   "cell_type": "code",
   "execution_count": 93,
   "id": "7b8ffb8e",
   "metadata": {},
   "outputs": [
    {
     "data": {
      "text/plain": [
       "array([-0.51295852,  0.37078131, -0.16520756, -0.00124478,  0.59752788])"
      ]
     },
     "execution_count": 93,
     "metadata": {},
     "output_type": "execute_result"
    }
   ],
   "source": [
    "# 열 간의 평균 계산\n",
    "np.mean(arr17, axis=1)"
   ]
  },
  {
   "cell_type": "code",
   "execution_count": 94,
   "id": "2afda1c3",
   "metadata": {},
   "outputs": [
    {
     "data": {
      "text/plain": [
       "array([ 0.59513348, -0.1494574 , -0.27233708])"
      ]
     },
     "execution_count": 94,
     "metadata": {},
     "output_type": "execute_result"
    }
   ],
   "source": [
    "# 행 간의 평균 계산\n",
    "np.mean(arr17, axis=0)"
   ]
  },
  {
   "cell_type": "code",
   "execution_count": 95,
   "id": "edc718c0",
   "metadata": {},
   "outputs": [
    {
     "data": {
      "text/plain": [
       "0.8240102881040449"
      ]
     },
     "execution_count": 95,
     "metadata": {},
     "output_type": "execute_result"
    }
   ],
   "source": [
    "# 전체 성분의 표준편차, 분산, 최소값, 최대값 계산(std, var, min, max)\n",
    "# 대표적으로 표준편차를 나타내는 std와, 최솟값을 나타내는 min에 대해서 계산\n",
    "# 먼저, std를 통해 표준편차 계산해보자.\n",
    "np.std(arr17)"
   ]
  },
  {
   "cell_type": "code",
   "execution_count": 96,
   "id": "bf99c713",
   "metadata": {},
   "outputs": [
    {
     "data": {
      "text/plain": [
       "array([-1.8234031 ,  0.12196612, -0.7903474 , -0.43873856,  0.0379194 ])"
      ]
     },
     "execution_count": 96,
     "metadata": {},
     "output_type": "execute_result"
    }
   ],
   "source": [
    "# 열 간의 최솟값 계산\n",
    "np.min(arr17, axis=1)"
   ]
  },
  {
   "cell_type": "code",
   "execution_count": 97,
   "id": "0f6da6c1",
   "metadata": {},
   "outputs": [
    {
     "data": {
      "text/plain": [
       "1"
      ]
     },
     "execution_count": 97,
     "metadata": {},
     "output_type": "execute_result"
    }
   ],
   "source": [
    "# 전체 성분의 최소값, 최대값이 위치한 인덱스를 반환(argmin, argmax)\n",
    "np.argmin(arr17)"
   ]
  },
  {
   "cell_type": "code",
   "execution_count": 98,
   "id": "5d38fa79",
   "metadata": {},
   "outputs": [
    {
     "data": {
      "text/plain": [
       "array([2, 4, 1], dtype=int64)"
      ]
     },
     "execution_count": 98,
     "metadata": {},
     "output_type": "execute_result"
    }
   ],
   "source": [
    "# 행 간 조건으로 argmax() 적용하기\n",
    "np.argmax(arr17,axis=0)"
   ]
  },
  {
   "cell_type": "code",
   "execution_count": 99,
   "id": "32e00c10",
   "metadata": {},
   "outputs": [
    {
     "data": {
      "text/plain": [
       "array([ 0.8849973 , -0.9384058 , -1.53887555, -1.35566473, -0.54849773,\n",
       "       -0.42653161,  0.55494761, -0.23539979, -0.9221543 , -0.25280341,\n",
       "       -0.69154196, -0.92588865, -0.66925945,  0.8287756 ,  0.86669501])"
      ]
     },
     "execution_count": 99,
     "metadata": {},
     "output_type": "execute_result"
    }
   ],
   "source": [
    "# [HARD] 맨 처음 성분부터 각 성분까지의 누적합 또는 누적곱을 계산(cumsum, cumprod)\n",
    "np.cumsum(arr17)"
   ]
  },
  {
   "cell_type": "code",
   "execution_count": 100,
   "id": "5fd6b2c0",
   "metadata": {},
   "outputs": [
    {
     "data": {
      "text/plain": [
       "array([ 8.84997298e-01, -1.61370681e+00,  9.68982121e-01,  1.77528002e-01,\n",
       "        1.43294745e-01,  1.74771046e-02,  1.71534149e-02, -1.35571568e-02,\n",
       "        9.31043859e-03,  6.23195033e-03, -2.73419689e-03,  6.40749974e-04,\n",
       "        1.64435151e-04,  2.46329620e-04,  9.34067171e-06])"
      ]
     },
     "execution_count": 100,
     "metadata": {},
     "output_type": "execute_result"
    }
   ],
   "source": [
    "np.cumprod(arr17)"
   ]
  },
  {
   "cell_type": "code",
   "execution_count": 101,
   "id": "48033200",
   "metadata": {},
   "outputs": [
    {
     "data": {
      "text/plain": [
       "array([[ 0.8849973 , -0.9384058 , -1.53887555],\n",
       "       [ 0.18321081,  0.99037782,  1.11234394],\n",
       "       [ 0.98147922,  0.19113182, -0.49562269],\n",
       "       [ 0.66935089,  0.23061233, -0.00373435],\n",
       "       [ 0.2566292 ,  1.75466425,  1.79258365]])"
      ]
     },
     "execution_count": 101,
     "metadata": {},
     "output_type": "execute_result"
    }
   ],
   "source": [
    "# 열 간으로 제한해서 누적합 계산하기 (해당 행 안에서만 누적합 적용)\n",
    "np.cumsum(arr17,axis=1)"
   ]
  },
  {
   "cell_type": "markdown",
   "id": "665f4f34",
   "metadata": {},
   "source": [
    "마지막으로, 기타 다른 함수 몇 개만 더 살펴보자."
   ]
  },
  {
   "cell_type": "code",
   "execution_count": 102,
   "id": "13b71b11",
   "metadata": {},
   "outputs": [
    {
     "data": {
      "text/plain": [
       "array([[ 1.60021161, -1.10205749],\n",
       "       [ 1.02833778, -0.47774083],\n",
       "       [-0.04284378,  1.93740159],\n",
       "       [-0.91031991, -1.05402196]])"
      ]
     },
     "execution_count": 102,
     "metadata": {},
     "output_type": "execute_result"
    }
   ],
   "source": [
    "arr18 = np.random.randn(4,2)\n",
    "arr18"
   ]
  },
  {
   "cell_type": "code",
   "execution_count": 103,
   "id": "b8895376",
   "metadata": {},
   "outputs": [
    {
     "data": {
      "text/plain": [
       "array([[-1.10205749,  1.60021161],\n",
       "       [-0.47774083,  1.02833778],\n",
       "       [-0.04284378,  1.93740159],\n",
       "       [-1.05402196, -0.91031991]])"
      ]
     },
     "execution_count": 103,
     "metadata": {},
     "output_type": "execute_result"
    }
   ],
   "source": [
    "# 전체 성분에 대해서 오름차순으로 정렬 (행단위 체크)\n",
    "np.sort(arr18)"
   ]
  },
  {
   "cell_type": "code",
   "execution_count": 104,
   "id": "bb564fe7",
   "metadata": {},
   "outputs": [
    {
     "data": {
      "text/plain": [
       "array([[-1.10205749,  1.60021161],\n",
       "       [-0.47774083,  1.02833778],\n",
       "       [-0.04284378,  1.93740159],\n",
       "       [-1.05402196, -0.91031991]])"
      ]
     },
     "execution_count": 104,
     "metadata": {},
     "output_type": "execute_result"
    }
   ],
   "source": [
    "# 다음 결과도 위의 코드와 출력되는 결과가 같다.\n",
    "np.sort(arr18,axis=1)"
   ]
  },
  {
   "cell_type": "code",
   "execution_count": 105,
   "id": "1796306e",
   "metadata": {},
   "outputs": [
    {
     "data": {
      "text/plain": [
       "array([[-0.91031991, -1.10205749],\n",
       "       [-0.04284378, -1.05402196],\n",
       "       [ 1.02833778, -0.47774083],\n",
       "       [ 1.60021161,  1.93740159]])"
      ]
     },
     "execution_count": 105,
     "metadata": {},
     "output_type": "execute_result"
    }
   ],
   "source": [
    "# 행 방향으로 오름차순으로 정렬 (열단위 체크)\n",
    "np.sort(arr18,axis=0)"
   ]
  }
 ],
 "metadata": {
  "kernelspec": {
   "display_name": "Python 3 (ipykernel)",
   "language": "python",
   "name": "python3"
  },
  "language_info": {
   "codemirror_mode": {
    "name": "ipython",
    "version": 3
   },
   "file_extension": ".py",
   "mimetype": "text/x-python",
   "name": "python",
   "nbconvert_exporter": "python",
   "pygments_lexer": "ipython3",
   "version": "3.9.7"
  }
 },
 "nbformat": 4,
 "nbformat_minor": 5
}
